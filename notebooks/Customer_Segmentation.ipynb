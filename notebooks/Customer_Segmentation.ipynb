{
  "nbformat": 4,
  "nbformat_minor": 0,
  "metadata": {
    "colab": {
      "provenance": []
    },
    "kernelspec": {
      "name": "python3",
      "display_name": "Python 3"
    },
    "language_info": {
      "name": "python"
    }
  },
  "cells": [
    {
      "cell_type": "markdown",
      "source": [
        "# **DESCRIPTION**"
      ],
      "metadata": {
        "id": "k8YLQDBJ3wCz"
      }
    },
    {
      "cell_type": "markdown",
      "source": [
        "This project consists of a segmentation of a company's customers according to the number of orders already placed, the amount of these orders and the number of equipment purchased.\n",
        "\n",
        "Companies names have been changed in order to protect the privacy of the data"
      ],
      "metadata": {
        "id": "FE3Nbhrw3v5S"
      }
    },
    {
      "cell_type": "markdown",
      "source": [
        "# **Project Develop**"
      ],
      "metadata": {
        "id": "cgdSzFao3fdZ"
      }
    },
    {
      "cell_type": "markdown",
      "source": [
        "## *Install libraries*"
      ],
      "metadata": {
        "id": "-gCCnF6a6lgs"
      }
    },
    {
      "cell_type": "code",
      "execution_count": 1,
      "metadata": {
        "id": "dSmelS3Cd3CG"
      },
      "outputs": [],
      "source": [
        "import pandas as pd\n",
        "from sklearn.cluster import KMeans\n",
        "from sklearn.preprocessing import StandardScaler\n",
        "import matplotlib.pyplot as plt\n",
        "import seaborn as sns\n",
        "from sklearn.decomposition import PCA\n",
        "from sklearn.metrics import silhouette_score"
      ]
    },
    {
      "cell_type": "markdown",
      "source": [
        "## *Import data from Excel file*"
      ],
      "metadata": {
        "id": "fLQfZxddeA2A"
      }
    },
    {
      "cell_type": "code",
      "source": [
        "raw_data = pd.read_excel('ORDERS.xlsx')\n",
        "raw_data.head()"
      ],
      "metadata": {
        "id": "TDq1nI_YeEXH",
        "colab": {
          "base_uri": "https://localhost:8080/",
          "height": 206
        },
        "outputId": "b0567d8b-3834-4e3b-ec82-bb4a07c66620"
      },
      "execution_count": 2,
      "outputs": [
        {
          "output_type": "execute_result",
          "data": {
            "text/plain": [
              "      num_order order_date   customer   nac_ext  order_amount  items_number\n",
              "0  P-08/020-S00 2008-01-22  Cliente_1  Nacional       1222.30            20\n",
              "1  P-08/030-S00 2008-02-07  Cliente_2  Nacional      11260.08            28\n",
              "2  P-08/039-S00 2008-02-15  Cliente_3  Nacional      13970.92            81\n",
              "3  P-08/044-S00 2008-02-19  Cliente_4  Nacional       2131.32            55\n",
              "4  P-08/069-S00 2008-04-23  Cliente_4  Nacional      75429.25           246"
            ],
            "text/html": [
              "\n",
              "  <div id=\"df-5da961ec-4a67-42bb-86f6-69ab9ded7eab\" class=\"colab-df-container\">\n",
              "    <div>\n",
              "<style scoped>\n",
              "    .dataframe tbody tr th:only-of-type {\n",
              "        vertical-align: middle;\n",
              "    }\n",
              "\n",
              "    .dataframe tbody tr th {\n",
              "        vertical-align: top;\n",
              "    }\n",
              "\n",
              "    .dataframe thead th {\n",
              "        text-align: right;\n",
              "    }\n",
              "</style>\n",
              "<table border=\"1\" class=\"dataframe\">\n",
              "  <thead>\n",
              "    <tr style=\"text-align: right;\">\n",
              "      <th></th>\n",
              "      <th>num_order</th>\n",
              "      <th>order_date</th>\n",
              "      <th>customer</th>\n",
              "      <th>nac_ext</th>\n",
              "      <th>order_amount</th>\n",
              "      <th>items_number</th>\n",
              "    </tr>\n",
              "  </thead>\n",
              "  <tbody>\n",
              "    <tr>\n",
              "      <th>0</th>\n",
              "      <td>P-08/020-S00</td>\n",
              "      <td>2008-01-22</td>\n",
              "      <td>Cliente_1</td>\n",
              "      <td>Nacional</td>\n",
              "      <td>1222.30</td>\n",
              "      <td>20</td>\n",
              "    </tr>\n",
              "    <tr>\n",
              "      <th>1</th>\n",
              "      <td>P-08/030-S00</td>\n",
              "      <td>2008-02-07</td>\n",
              "      <td>Cliente_2</td>\n",
              "      <td>Nacional</td>\n",
              "      <td>11260.08</td>\n",
              "      <td>28</td>\n",
              "    </tr>\n",
              "    <tr>\n",
              "      <th>2</th>\n",
              "      <td>P-08/039-S00</td>\n",
              "      <td>2008-02-15</td>\n",
              "      <td>Cliente_3</td>\n",
              "      <td>Nacional</td>\n",
              "      <td>13970.92</td>\n",
              "      <td>81</td>\n",
              "    </tr>\n",
              "    <tr>\n",
              "      <th>3</th>\n",
              "      <td>P-08/044-S00</td>\n",
              "      <td>2008-02-19</td>\n",
              "      <td>Cliente_4</td>\n",
              "      <td>Nacional</td>\n",
              "      <td>2131.32</td>\n",
              "      <td>55</td>\n",
              "    </tr>\n",
              "    <tr>\n",
              "      <th>4</th>\n",
              "      <td>P-08/069-S00</td>\n",
              "      <td>2008-04-23</td>\n",
              "      <td>Cliente_4</td>\n",
              "      <td>Nacional</td>\n",
              "      <td>75429.25</td>\n",
              "      <td>246</td>\n",
              "    </tr>\n",
              "  </tbody>\n",
              "</table>\n",
              "</div>\n",
              "    <div class=\"colab-df-buttons\">\n",
              "\n",
              "  <div class=\"colab-df-container\">\n",
              "    <button class=\"colab-df-convert\" onclick=\"convertToInteractive('df-5da961ec-4a67-42bb-86f6-69ab9ded7eab')\"\n",
              "            title=\"Convert this dataframe to an interactive table.\"\n",
              "            style=\"display:none;\">\n",
              "\n",
              "  <svg xmlns=\"http://www.w3.org/2000/svg\" height=\"24px\" viewBox=\"0 -960 960 960\">\n",
              "    <path d=\"M120-120v-720h720v720H120Zm60-500h600v-160H180v160Zm220 220h160v-160H400v160Zm0 220h160v-160H400v160ZM180-400h160v-160H180v160Zm440 0h160v-160H620v160ZM180-180h160v-160H180v160Zm440 0h160v-160H620v160Z\"/>\n",
              "  </svg>\n",
              "    </button>\n",
              "\n",
              "  <style>\n",
              "    .colab-df-container {\n",
              "      display:flex;\n",
              "      gap: 12px;\n",
              "    }\n",
              "\n",
              "    .colab-df-convert {\n",
              "      background-color: #E8F0FE;\n",
              "      border: none;\n",
              "      border-radius: 50%;\n",
              "      cursor: pointer;\n",
              "      display: none;\n",
              "      fill: #1967D2;\n",
              "      height: 32px;\n",
              "      padding: 0 0 0 0;\n",
              "      width: 32px;\n",
              "    }\n",
              "\n",
              "    .colab-df-convert:hover {\n",
              "      background-color: #E2EBFA;\n",
              "      box-shadow: 0px 1px 2px rgba(60, 64, 67, 0.3), 0px 1px 3px 1px rgba(60, 64, 67, 0.15);\n",
              "      fill: #174EA6;\n",
              "    }\n",
              "\n",
              "    .colab-df-buttons div {\n",
              "      margin-bottom: 4px;\n",
              "    }\n",
              "\n",
              "    [theme=dark] .colab-df-convert {\n",
              "      background-color: #3B4455;\n",
              "      fill: #D2E3FC;\n",
              "    }\n",
              "\n",
              "    [theme=dark] .colab-df-convert:hover {\n",
              "      background-color: #434B5C;\n",
              "      box-shadow: 0px 1px 3px 1px rgba(0, 0, 0, 0.15);\n",
              "      filter: drop-shadow(0px 1px 2px rgba(0, 0, 0, 0.3));\n",
              "      fill: #FFFFFF;\n",
              "    }\n",
              "  </style>\n",
              "\n",
              "    <script>\n",
              "      const buttonEl =\n",
              "        document.querySelector('#df-5da961ec-4a67-42bb-86f6-69ab9ded7eab button.colab-df-convert');\n",
              "      buttonEl.style.display =\n",
              "        google.colab.kernel.accessAllowed ? 'block' : 'none';\n",
              "\n",
              "      async function convertToInteractive(key) {\n",
              "        const element = document.querySelector('#df-5da961ec-4a67-42bb-86f6-69ab9ded7eab');\n",
              "        const dataTable =\n",
              "          await google.colab.kernel.invokeFunction('convertToInteractive',\n",
              "                                                    [key], {});\n",
              "        if (!dataTable) return;\n",
              "\n",
              "        const docLinkHtml = 'Like what you see? Visit the ' +\n",
              "          '<a target=\"_blank\" href=https://colab.research.google.com/notebooks/data_table.ipynb>data table notebook</a>'\n",
              "          + ' to learn more about interactive tables.';\n",
              "        element.innerHTML = '';\n",
              "        dataTable['output_type'] = 'display_data';\n",
              "        await google.colab.output.renderOutput(dataTable, element);\n",
              "        const docLink = document.createElement('div');\n",
              "        docLink.innerHTML = docLinkHtml;\n",
              "        element.appendChild(docLink);\n",
              "      }\n",
              "    </script>\n",
              "  </div>\n",
              "\n",
              "\n",
              "    <div id=\"df-7fb8d1ea-7179-4bed-af44-7d81c1fac7d7\">\n",
              "      <button class=\"colab-df-quickchart\" onclick=\"quickchart('df-7fb8d1ea-7179-4bed-af44-7d81c1fac7d7')\"\n",
              "                title=\"Suggest charts\"\n",
              "                style=\"display:none;\">\n",
              "\n",
              "<svg xmlns=\"http://www.w3.org/2000/svg\" height=\"24px\"viewBox=\"0 0 24 24\"\n",
              "     width=\"24px\">\n",
              "    <g>\n",
              "        <path d=\"M19 3H5c-1.1 0-2 .9-2 2v14c0 1.1.9 2 2 2h14c1.1 0 2-.9 2-2V5c0-1.1-.9-2-2-2zM9 17H7v-7h2v7zm4 0h-2V7h2v10zm4 0h-2v-4h2v4z\"/>\n",
              "    </g>\n",
              "</svg>\n",
              "      </button>\n",
              "\n",
              "<style>\n",
              "  .colab-df-quickchart {\n",
              "      --bg-color: #E8F0FE;\n",
              "      --fill-color: #1967D2;\n",
              "      --hover-bg-color: #E2EBFA;\n",
              "      --hover-fill-color: #174EA6;\n",
              "      --disabled-fill-color: #AAA;\n",
              "      --disabled-bg-color: #DDD;\n",
              "  }\n",
              "\n",
              "  [theme=dark] .colab-df-quickchart {\n",
              "      --bg-color: #3B4455;\n",
              "      --fill-color: #D2E3FC;\n",
              "      --hover-bg-color: #434B5C;\n",
              "      --hover-fill-color: #FFFFFF;\n",
              "      --disabled-bg-color: #3B4455;\n",
              "      --disabled-fill-color: #666;\n",
              "  }\n",
              "\n",
              "  .colab-df-quickchart {\n",
              "    background-color: var(--bg-color);\n",
              "    border: none;\n",
              "    border-radius: 50%;\n",
              "    cursor: pointer;\n",
              "    display: none;\n",
              "    fill: var(--fill-color);\n",
              "    height: 32px;\n",
              "    padding: 0;\n",
              "    width: 32px;\n",
              "  }\n",
              "\n",
              "  .colab-df-quickchart:hover {\n",
              "    background-color: var(--hover-bg-color);\n",
              "    box-shadow: 0 1px 2px rgba(60, 64, 67, 0.3), 0 1px 3px 1px rgba(60, 64, 67, 0.15);\n",
              "    fill: var(--button-hover-fill-color);\n",
              "  }\n",
              "\n",
              "  .colab-df-quickchart-complete:disabled,\n",
              "  .colab-df-quickchart-complete:disabled:hover {\n",
              "    background-color: var(--disabled-bg-color);\n",
              "    fill: var(--disabled-fill-color);\n",
              "    box-shadow: none;\n",
              "  }\n",
              "\n",
              "  .colab-df-spinner {\n",
              "    border: 2px solid var(--fill-color);\n",
              "    border-color: transparent;\n",
              "    border-bottom-color: var(--fill-color);\n",
              "    animation:\n",
              "      spin 1s steps(1) infinite;\n",
              "  }\n",
              "\n",
              "  @keyframes spin {\n",
              "    0% {\n",
              "      border-color: transparent;\n",
              "      border-bottom-color: var(--fill-color);\n",
              "      border-left-color: var(--fill-color);\n",
              "    }\n",
              "    20% {\n",
              "      border-color: transparent;\n",
              "      border-left-color: var(--fill-color);\n",
              "      border-top-color: var(--fill-color);\n",
              "    }\n",
              "    30% {\n",
              "      border-color: transparent;\n",
              "      border-left-color: var(--fill-color);\n",
              "      border-top-color: var(--fill-color);\n",
              "      border-right-color: var(--fill-color);\n",
              "    }\n",
              "    40% {\n",
              "      border-color: transparent;\n",
              "      border-right-color: var(--fill-color);\n",
              "      border-top-color: var(--fill-color);\n",
              "    }\n",
              "    60% {\n",
              "      border-color: transparent;\n",
              "      border-right-color: var(--fill-color);\n",
              "    }\n",
              "    80% {\n",
              "      border-color: transparent;\n",
              "      border-right-color: var(--fill-color);\n",
              "      border-bottom-color: var(--fill-color);\n",
              "    }\n",
              "    90% {\n",
              "      border-color: transparent;\n",
              "      border-bottom-color: var(--fill-color);\n",
              "    }\n",
              "  }\n",
              "</style>\n",
              "\n",
              "      <script>\n",
              "        async function quickchart(key) {\n",
              "          const quickchartButtonEl =\n",
              "            document.querySelector('#' + key + ' button');\n",
              "          quickchartButtonEl.disabled = true;  // To prevent multiple clicks.\n",
              "          quickchartButtonEl.classList.add('colab-df-spinner');\n",
              "          try {\n",
              "            const charts = await google.colab.kernel.invokeFunction(\n",
              "                'suggestCharts', [key], {});\n",
              "          } catch (error) {\n",
              "            console.error('Error during call to suggestCharts:', error);\n",
              "          }\n",
              "          quickchartButtonEl.classList.remove('colab-df-spinner');\n",
              "          quickchartButtonEl.classList.add('colab-df-quickchart-complete');\n",
              "        }\n",
              "        (() => {\n",
              "          let quickchartButtonEl =\n",
              "            document.querySelector('#df-7fb8d1ea-7179-4bed-af44-7d81c1fac7d7 button');\n",
              "          quickchartButtonEl.style.display =\n",
              "            google.colab.kernel.accessAllowed ? 'block' : 'none';\n",
              "        })();\n",
              "      </script>\n",
              "    </div>\n",
              "\n",
              "    </div>\n",
              "  </div>\n"
            ],
            "application/vnd.google.colaboratory.intrinsic+json": {
              "type": "dataframe",
              "variable_name": "raw_data",
              "summary": "{\n  \"name\": \"raw_data\",\n  \"rows\": 2482,\n  \"fields\": [\n    {\n      \"column\": \"num_order\",\n      \"properties\": {\n        \"dtype\": \"string\",\n        \"num_unique_values\": 2482,\n        \"samples\": [\n          \"P-09/116-S00\",\n          \"P-11/122-S00\",\n          \"P-20/034-S00\"\n        ],\n        \"semantic_type\": \"\",\n        \"description\": \"\"\n      }\n    },\n    {\n      \"column\": \"order_date\",\n      \"properties\": {\n        \"dtype\": \"date\",\n        \"min\": \"2008-01-22 00:00:00\",\n        \"max\": \"2025-03-10 00:00:00\",\n        \"num_unique_values\": 1370,\n        \"samples\": [\n          \"2014-07-01 00:00:00\",\n          \"2022-09-27 00:00:00\",\n          \"2017-05-16 00:00:00\"\n        ],\n        \"semantic_type\": \"\",\n        \"description\": \"\"\n      }\n    },\n    {\n      \"column\": \"customer\",\n      \"properties\": {\n        \"dtype\": \"category\",\n        \"num_unique_values\": 228,\n        \"samples\": [\n          \"Cliente_216\",\n          \"Cliente_67\",\n          \"Cliente_10\"\n        ],\n        \"semantic_type\": \"\",\n        \"description\": \"\"\n      }\n    },\n    {\n      \"column\": \"nac_ext\",\n      \"properties\": {\n        \"dtype\": \"category\",\n        \"num_unique_values\": 2,\n        \"samples\": [\n          \"Exterior\",\n          \"Nacional\"\n        ],\n        \"semantic_type\": \"\",\n        \"description\": \"\"\n      }\n    },\n    {\n      \"column\": \"order_amount\",\n      \"properties\": {\n        \"dtype\": \"number\",\n        \"std\": 76040.4240589156,\n        \"min\": -21585.95,\n        \"max\": 1513600.0,\n        \"num_unique_values\": 1902,\n        \"samples\": [\n          66978.0,\n          2094.75\n        ],\n        \"semantic_type\": \"\",\n        \"description\": \"\"\n      }\n    },\n    {\n      \"column\": \"items_number\",\n      \"properties\": {\n        \"dtype\": \"number\",\n        \"std\": 115,\n        \"min\": -48,\n        \"max\": 2600,\n        \"num_unique_values\": 220,\n        \"samples\": [\n          226,\n          263\n        ],\n        \"semantic_type\": \"\",\n        \"description\": \"\"\n      }\n    }\n  ]\n}"
            }
          },
          "metadata": {},
          "execution_count": 2
        }
      ]
    },
    {
      "cell_type": "markdown",
      "source": [
        "## *Cleaning data*"
      ],
      "metadata": {
        "id": "kPDxEO4FeiR8"
      }
    },
    {
      "cell_type": "code",
      "source": [
        "raw_data['order_amount'] = raw_data['order_amount'].astype(float)\n",
        "raw_data.drop(columns=['order_date'])"
      ],
      "metadata": {
        "id": "ajndS8XaekA7",
        "colab": {
          "base_uri": "https://localhost:8080/",
          "height": 423
        },
        "outputId": "6a06d7ba-fa7d-444d-9123-6582a9b201bf"
      },
      "execution_count": 3,
      "outputs": [
        {
          "output_type": "execute_result",
          "data": {
            "text/plain": [
              "         num_order     customer   nac_ext  order_amount  items_number\n",
              "0     P-08/020-S00    Cliente_1  Nacional       1222.30            20\n",
              "1     P-08/030-S00    Cliente_2  Nacional      11260.08            28\n",
              "2     P-08/039-S00    Cliente_3  Nacional      13970.92            81\n",
              "3     P-08/044-S00    Cliente_4  Nacional       2131.32            55\n",
              "4     P-08/069-S00    Cliente_4  Nacional      75429.25           246\n",
              "...            ...          ...       ...           ...           ...\n",
              "2477     PA-25/029  Cliente_131  Exterior       1260.00             2\n",
              "2478     PA-25/030    Cliente_7  Nacional        500.00             1\n",
              "2479     PA-25/031  Cliente_177  Nacional        740.00             2\n",
              "2480     PA-25/032   Cliente_26  Exterior       1610.00             1\n",
              "2481     PA-25/033    Cliente_5  Nacional        930.00             2\n",
              "\n",
              "[2482 rows x 5 columns]"
            ],
            "text/html": [
              "\n",
              "  <div id=\"df-328db3ec-2df1-45fb-a24f-a498d850ef43\" class=\"colab-df-container\">\n",
              "    <div>\n",
              "<style scoped>\n",
              "    .dataframe tbody tr th:only-of-type {\n",
              "        vertical-align: middle;\n",
              "    }\n",
              "\n",
              "    .dataframe tbody tr th {\n",
              "        vertical-align: top;\n",
              "    }\n",
              "\n",
              "    .dataframe thead th {\n",
              "        text-align: right;\n",
              "    }\n",
              "</style>\n",
              "<table border=\"1\" class=\"dataframe\">\n",
              "  <thead>\n",
              "    <tr style=\"text-align: right;\">\n",
              "      <th></th>\n",
              "      <th>num_order</th>\n",
              "      <th>customer</th>\n",
              "      <th>nac_ext</th>\n",
              "      <th>order_amount</th>\n",
              "      <th>items_number</th>\n",
              "    </tr>\n",
              "  </thead>\n",
              "  <tbody>\n",
              "    <tr>\n",
              "      <th>0</th>\n",
              "      <td>P-08/020-S00</td>\n",
              "      <td>Cliente_1</td>\n",
              "      <td>Nacional</td>\n",
              "      <td>1222.30</td>\n",
              "      <td>20</td>\n",
              "    </tr>\n",
              "    <tr>\n",
              "      <th>1</th>\n",
              "      <td>P-08/030-S00</td>\n",
              "      <td>Cliente_2</td>\n",
              "      <td>Nacional</td>\n",
              "      <td>11260.08</td>\n",
              "      <td>28</td>\n",
              "    </tr>\n",
              "    <tr>\n",
              "      <th>2</th>\n",
              "      <td>P-08/039-S00</td>\n",
              "      <td>Cliente_3</td>\n",
              "      <td>Nacional</td>\n",
              "      <td>13970.92</td>\n",
              "      <td>81</td>\n",
              "    </tr>\n",
              "    <tr>\n",
              "      <th>3</th>\n",
              "      <td>P-08/044-S00</td>\n",
              "      <td>Cliente_4</td>\n",
              "      <td>Nacional</td>\n",
              "      <td>2131.32</td>\n",
              "      <td>55</td>\n",
              "    </tr>\n",
              "    <tr>\n",
              "      <th>4</th>\n",
              "      <td>P-08/069-S00</td>\n",
              "      <td>Cliente_4</td>\n",
              "      <td>Nacional</td>\n",
              "      <td>75429.25</td>\n",
              "      <td>246</td>\n",
              "    </tr>\n",
              "    <tr>\n",
              "      <th>...</th>\n",
              "      <td>...</td>\n",
              "      <td>...</td>\n",
              "      <td>...</td>\n",
              "      <td>...</td>\n",
              "      <td>...</td>\n",
              "    </tr>\n",
              "    <tr>\n",
              "      <th>2477</th>\n",
              "      <td>PA-25/029</td>\n",
              "      <td>Cliente_131</td>\n",
              "      <td>Exterior</td>\n",
              "      <td>1260.00</td>\n",
              "      <td>2</td>\n",
              "    </tr>\n",
              "    <tr>\n",
              "      <th>2478</th>\n",
              "      <td>PA-25/030</td>\n",
              "      <td>Cliente_7</td>\n",
              "      <td>Nacional</td>\n",
              "      <td>500.00</td>\n",
              "      <td>1</td>\n",
              "    </tr>\n",
              "    <tr>\n",
              "      <th>2479</th>\n",
              "      <td>PA-25/031</td>\n",
              "      <td>Cliente_177</td>\n",
              "      <td>Nacional</td>\n",
              "      <td>740.00</td>\n",
              "      <td>2</td>\n",
              "    </tr>\n",
              "    <tr>\n",
              "      <th>2480</th>\n",
              "      <td>PA-25/032</td>\n",
              "      <td>Cliente_26</td>\n",
              "      <td>Exterior</td>\n",
              "      <td>1610.00</td>\n",
              "      <td>1</td>\n",
              "    </tr>\n",
              "    <tr>\n",
              "      <th>2481</th>\n",
              "      <td>PA-25/033</td>\n",
              "      <td>Cliente_5</td>\n",
              "      <td>Nacional</td>\n",
              "      <td>930.00</td>\n",
              "      <td>2</td>\n",
              "    </tr>\n",
              "  </tbody>\n",
              "</table>\n",
              "<p>2482 rows × 5 columns</p>\n",
              "</div>\n",
              "    <div class=\"colab-df-buttons\">\n",
              "\n",
              "  <div class=\"colab-df-container\">\n",
              "    <button class=\"colab-df-convert\" onclick=\"convertToInteractive('df-328db3ec-2df1-45fb-a24f-a498d850ef43')\"\n",
              "            title=\"Convert this dataframe to an interactive table.\"\n",
              "            style=\"display:none;\">\n",
              "\n",
              "  <svg xmlns=\"http://www.w3.org/2000/svg\" height=\"24px\" viewBox=\"0 -960 960 960\">\n",
              "    <path d=\"M120-120v-720h720v720H120Zm60-500h600v-160H180v160Zm220 220h160v-160H400v160Zm0 220h160v-160H400v160ZM180-400h160v-160H180v160Zm440 0h160v-160H620v160ZM180-180h160v-160H180v160Zm440 0h160v-160H620v160Z\"/>\n",
              "  </svg>\n",
              "    </button>\n",
              "\n",
              "  <style>\n",
              "    .colab-df-container {\n",
              "      display:flex;\n",
              "      gap: 12px;\n",
              "    }\n",
              "\n",
              "    .colab-df-convert {\n",
              "      background-color: #E8F0FE;\n",
              "      border: none;\n",
              "      border-radius: 50%;\n",
              "      cursor: pointer;\n",
              "      display: none;\n",
              "      fill: #1967D2;\n",
              "      height: 32px;\n",
              "      padding: 0 0 0 0;\n",
              "      width: 32px;\n",
              "    }\n",
              "\n",
              "    .colab-df-convert:hover {\n",
              "      background-color: #E2EBFA;\n",
              "      box-shadow: 0px 1px 2px rgba(60, 64, 67, 0.3), 0px 1px 3px 1px rgba(60, 64, 67, 0.15);\n",
              "      fill: #174EA6;\n",
              "    }\n",
              "\n",
              "    .colab-df-buttons div {\n",
              "      margin-bottom: 4px;\n",
              "    }\n",
              "\n",
              "    [theme=dark] .colab-df-convert {\n",
              "      background-color: #3B4455;\n",
              "      fill: #D2E3FC;\n",
              "    }\n",
              "\n",
              "    [theme=dark] .colab-df-convert:hover {\n",
              "      background-color: #434B5C;\n",
              "      box-shadow: 0px 1px 3px 1px rgba(0, 0, 0, 0.15);\n",
              "      filter: drop-shadow(0px 1px 2px rgba(0, 0, 0, 0.3));\n",
              "      fill: #FFFFFF;\n",
              "    }\n",
              "  </style>\n",
              "\n",
              "    <script>\n",
              "      const buttonEl =\n",
              "        document.querySelector('#df-328db3ec-2df1-45fb-a24f-a498d850ef43 button.colab-df-convert');\n",
              "      buttonEl.style.display =\n",
              "        google.colab.kernel.accessAllowed ? 'block' : 'none';\n",
              "\n",
              "      async function convertToInteractive(key) {\n",
              "        const element = document.querySelector('#df-328db3ec-2df1-45fb-a24f-a498d850ef43');\n",
              "        const dataTable =\n",
              "          await google.colab.kernel.invokeFunction('convertToInteractive',\n",
              "                                                    [key], {});\n",
              "        if (!dataTable) return;\n",
              "\n",
              "        const docLinkHtml = 'Like what you see? Visit the ' +\n",
              "          '<a target=\"_blank\" href=https://colab.research.google.com/notebooks/data_table.ipynb>data table notebook</a>'\n",
              "          + ' to learn more about interactive tables.';\n",
              "        element.innerHTML = '';\n",
              "        dataTable['output_type'] = 'display_data';\n",
              "        await google.colab.output.renderOutput(dataTable, element);\n",
              "        const docLink = document.createElement('div');\n",
              "        docLink.innerHTML = docLinkHtml;\n",
              "        element.appendChild(docLink);\n",
              "      }\n",
              "    </script>\n",
              "  </div>\n",
              "\n",
              "\n",
              "    <div id=\"df-d35752e5-4031-446a-b7e4-dd58c11e87df\">\n",
              "      <button class=\"colab-df-quickchart\" onclick=\"quickchart('df-d35752e5-4031-446a-b7e4-dd58c11e87df')\"\n",
              "                title=\"Suggest charts\"\n",
              "                style=\"display:none;\">\n",
              "\n",
              "<svg xmlns=\"http://www.w3.org/2000/svg\" height=\"24px\"viewBox=\"0 0 24 24\"\n",
              "     width=\"24px\">\n",
              "    <g>\n",
              "        <path d=\"M19 3H5c-1.1 0-2 .9-2 2v14c0 1.1.9 2 2 2h14c1.1 0 2-.9 2-2V5c0-1.1-.9-2-2-2zM9 17H7v-7h2v7zm4 0h-2V7h2v10zm4 0h-2v-4h2v4z\"/>\n",
              "    </g>\n",
              "</svg>\n",
              "      </button>\n",
              "\n",
              "<style>\n",
              "  .colab-df-quickchart {\n",
              "      --bg-color: #E8F0FE;\n",
              "      --fill-color: #1967D2;\n",
              "      --hover-bg-color: #E2EBFA;\n",
              "      --hover-fill-color: #174EA6;\n",
              "      --disabled-fill-color: #AAA;\n",
              "      --disabled-bg-color: #DDD;\n",
              "  }\n",
              "\n",
              "  [theme=dark] .colab-df-quickchart {\n",
              "      --bg-color: #3B4455;\n",
              "      --fill-color: #D2E3FC;\n",
              "      --hover-bg-color: #434B5C;\n",
              "      --hover-fill-color: #FFFFFF;\n",
              "      --disabled-bg-color: #3B4455;\n",
              "      --disabled-fill-color: #666;\n",
              "  }\n",
              "\n",
              "  .colab-df-quickchart {\n",
              "    background-color: var(--bg-color);\n",
              "    border: none;\n",
              "    border-radius: 50%;\n",
              "    cursor: pointer;\n",
              "    display: none;\n",
              "    fill: var(--fill-color);\n",
              "    height: 32px;\n",
              "    padding: 0;\n",
              "    width: 32px;\n",
              "  }\n",
              "\n",
              "  .colab-df-quickchart:hover {\n",
              "    background-color: var(--hover-bg-color);\n",
              "    box-shadow: 0 1px 2px rgba(60, 64, 67, 0.3), 0 1px 3px 1px rgba(60, 64, 67, 0.15);\n",
              "    fill: var(--button-hover-fill-color);\n",
              "  }\n",
              "\n",
              "  .colab-df-quickchart-complete:disabled,\n",
              "  .colab-df-quickchart-complete:disabled:hover {\n",
              "    background-color: var(--disabled-bg-color);\n",
              "    fill: var(--disabled-fill-color);\n",
              "    box-shadow: none;\n",
              "  }\n",
              "\n",
              "  .colab-df-spinner {\n",
              "    border: 2px solid var(--fill-color);\n",
              "    border-color: transparent;\n",
              "    border-bottom-color: var(--fill-color);\n",
              "    animation:\n",
              "      spin 1s steps(1) infinite;\n",
              "  }\n",
              "\n",
              "  @keyframes spin {\n",
              "    0% {\n",
              "      border-color: transparent;\n",
              "      border-bottom-color: var(--fill-color);\n",
              "      border-left-color: var(--fill-color);\n",
              "    }\n",
              "    20% {\n",
              "      border-color: transparent;\n",
              "      border-left-color: var(--fill-color);\n",
              "      border-top-color: var(--fill-color);\n",
              "    }\n",
              "    30% {\n",
              "      border-color: transparent;\n",
              "      border-left-color: var(--fill-color);\n",
              "      border-top-color: var(--fill-color);\n",
              "      border-right-color: var(--fill-color);\n",
              "    }\n",
              "    40% {\n",
              "      border-color: transparent;\n",
              "      border-right-color: var(--fill-color);\n",
              "      border-top-color: var(--fill-color);\n",
              "    }\n",
              "    60% {\n",
              "      border-color: transparent;\n",
              "      border-right-color: var(--fill-color);\n",
              "    }\n",
              "    80% {\n",
              "      border-color: transparent;\n",
              "      border-right-color: var(--fill-color);\n",
              "      border-bottom-color: var(--fill-color);\n",
              "    }\n",
              "    90% {\n",
              "      border-color: transparent;\n",
              "      border-bottom-color: var(--fill-color);\n",
              "    }\n",
              "  }\n",
              "</style>\n",
              "\n",
              "      <script>\n",
              "        async function quickchart(key) {\n",
              "          const quickchartButtonEl =\n",
              "            document.querySelector('#' + key + ' button');\n",
              "          quickchartButtonEl.disabled = true;  // To prevent multiple clicks.\n",
              "          quickchartButtonEl.classList.add('colab-df-spinner');\n",
              "          try {\n",
              "            const charts = await google.colab.kernel.invokeFunction(\n",
              "                'suggestCharts', [key], {});\n",
              "          } catch (error) {\n",
              "            console.error('Error during call to suggestCharts:', error);\n",
              "          }\n",
              "          quickchartButtonEl.classList.remove('colab-df-spinner');\n",
              "          quickchartButtonEl.classList.add('colab-df-quickchart-complete');\n",
              "        }\n",
              "        (() => {\n",
              "          let quickchartButtonEl =\n",
              "            document.querySelector('#df-d35752e5-4031-446a-b7e4-dd58c11e87df button');\n",
              "          quickchartButtonEl.style.display =\n",
              "            google.colab.kernel.accessAllowed ? 'block' : 'none';\n",
              "        })();\n",
              "      </script>\n",
              "    </div>\n",
              "\n",
              "    </div>\n",
              "  </div>\n"
            ],
            "application/vnd.google.colaboratory.intrinsic+json": {
              "type": "dataframe",
              "summary": "{\n  \"name\": \"raw_data\",\n  \"rows\": 2482,\n  \"fields\": [\n    {\n      \"column\": \"num_order\",\n      \"properties\": {\n        \"dtype\": \"string\",\n        \"num_unique_values\": 2482,\n        \"samples\": [\n          \"P-09/116-S00\",\n          \"P-11/122-S00\",\n          \"P-20/034-S00\"\n        ],\n        \"semantic_type\": \"\",\n        \"description\": \"\"\n      }\n    },\n    {\n      \"column\": \"customer\",\n      \"properties\": {\n        \"dtype\": \"category\",\n        \"num_unique_values\": 228,\n        \"samples\": [\n          \"Cliente_216\",\n          \"Cliente_67\",\n          \"Cliente_10\"\n        ],\n        \"semantic_type\": \"\",\n        \"description\": \"\"\n      }\n    },\n    {\n      \"column\": \"nac_ext\",\n      \"properties\": {\n        \"dtype\": \"category\",\n        \"num_unique_values\": 2,\n        \"samples\": [\n          \"Exterior\",\n          \"Nacional\"\n        ],\n        \"semantic_type\": \"\",\n        \"description\": \"\"\n      }\n    },\n    {\n      \"column\": \"order_amount\",\n      \"properties\": {\n        \"dtype\": \"number\",\n        \"std\": 76040.4240589156,\n        \"min\": -21585.95,\n        \"max\": 1513600.0,\n        \"num_unique_values\": 1902,\n        \"samples\": [\n          66978.0,\n          2094.75\n        ],\n        \"semantic_type\": \"\",\n        \"description\": \"\"\n      }\n    },\n    {\n      \"column\": \"items_number\",\n      \"properties\": {\n        \"dtype\": \"number\",\n        \"std\": 115,\n        \"min\": -48,\n        \"max\": 2600,\n        \"num_unique_values\": 220,\n        \"samples\": [\n          226,\n          263\n        ],\n        \"semantic_type\": \"\",\n        \"description\": \"\"\n      }\n    }\n  ]\n}"
            }
          },
          "metadata": {},
          "execution_count": 3
        }
      ]
    },
    {
      "cell_type": "markdown",
      "source": [
        "## *Grouping data*"
      ],
      "metadata": {
        "id": "UrkgBLq73F14"
      }
    },
    {
      "cell_type": "markdown",
      "source": [
        "Separating by national and international"
      ],
      "metadata": {
        "id": "LaWje1TaUWVw"
      }
    },
    {
      "cell_type": "code",
      "source": [
        "data_national = raw_data[raw_data['nac_ext'] == 'Nacional'].copy()\n",
        "data_international = raw_data[raw_data['nac_ext'] == 'Exterior'].copy()"
      ],
      "metadata": {
        "id": "ttjAPcx9Uano"
      },
      "execution_count": 4,
      "outputs": []
    },
    {
      "cell_type": "markdown",
      "source": [
        "Grouping by customer"
      ],
      "metadata": {
        "id": "CReNPp9Yfr5N"
      }
    },
    {
      "cell_type": "code",
      "source": [
        "segments_national = data_national.groupby('customer').agg({'num_order':'count', # Total orders\n",
        "                                            'order_amount': 'sum', # Total amount of orders\n",
        "                                            'items_number': 'mean' # Mean item by order\n",
        "                                            }).rename(columns={\"num_order\": \"Total Pedidos\",\n",
        "                                                               \"order_amount\": \"Importe Total €\",\n",
        "                                                               \"items_number\": \"Promedio Equipos\"\n",
        "                                                               }).reset_index()"
      ],
      "metadata": {
        "id": "-DKDvUFefuUR"
      },
      "execution_count": 5,
      "outputs": []
    },
    {
      "cell_type": "code",
      "source": [
        "segments_international = data_international.groupby('customer').agg({'num_order':'count', # Total orders\n",
        "                                            'order_amount': 'sum', # Total amount of orders\n",
        "                                            'items_number': 'mean' # Mean item by order\n",
        "                                            }).rename(columns={'num_order': 'Total Pedidos',\n",
        "                                                               'order_amount': 'Importe Total €',\n",
        "                                                               'items_number': 'Promedio Equipos'\n",
        "                                                               }).reset_index()"
      ],
      "metadata": {
        "id": "V5OFW6rrU1kH"
      },
      "execution_count": 6,
      "outputs": []
    },
    {
      "cell_type": "markdown",
      "source": [
        "## *Segmentation*"
      ],
      "metadata": {
        "id": "295RNbMZgmu1"
      }
    },
    {
      "cell_type": "code",
      "source": [
        "# Selecting features\n",
        "features_national = segments_national[['Total Pedidos', 'Importe Total €', 'Promedio Equipos']]\n",
        "\n",
        "# Standarization\n",
        "scaler = StandardScaler()\n",
        "scaled_features_national = scaler.fit_transform(features_national)\n",
        "\n",
        "# Clustering\n",
        "kmeans = KMeans(n_clusters=4, random_state=42)\n",
        "segments_national['Cluster'] = kmeans.fit_predict(scaled_features_national)"
      ],
      "metadata": {
        "id": "6Dv8I05RgjBT"
      },
      "execution_count": 7,
      "outputs": []
    },
    {
      "cell_type": "code",
      "source": [
        "# Selecting features\n",
        "features_international = segments_international[['Total Pedidos', 'Importe Total €', 'Promedio Equipos']]\n",
        "\n",
        "# Standarization\n",
        "scaler = StandardScaler()\n",
        "scaled_features_international = scaler.fit_transform(features_international)\n",
        "\n",
        "# Clustering\n",
        "kmeans = KMeans(n_clusters=4, random_state=42)\n",
        "segments_international['Cluster'] = kmeans.fit_predict(scaled_features_international)"
      ],
      "metadata": {
        "id": "ssDzqqGDU6Bf"
      },
      "execution_count": 8,
      "outputs": []
    },
    {
      "cell_type": "markdown",
      "source": [
        "## *Visualizing results*"
      ],
      "metadata": {
        "id": "O08UtycHkrb7"
      }
    },
    {
      "cell_type": "markdown",
      "source": [
        "### NATIONAL"
      ],
      "metadata": {
        "id": "Uwkj4N5dgnX3"
      }
    },
    {
      "cell_type": "code",
      "source": [
        "pca=PCA(n_components=2)\n",
        "reduce_features_national=pca.fit_transform(scaled_features_national)\n",
        "\n",
        "plt.scatter(reduce_features_national[:,0], reduce_features_national[:,1], c=segments_national['Cluster'], cmap='viridis')\n",
        "plt.xlabel('PCA 1')\n",
        "plt.ylabel('PCA 2')\n",
        "plt.title(\"Segmentación de Clientes (Pedido Nacional)\")\n",
        "plt.colorbar(label=\"Cluster\")\n",
        "plt.show()\n"
      ],
      "metadata": {
        "id": "-tNiF-AKg2Hj",
        "colab": {
          "base_uri": "https://localhost:8080/",
          "height": 472
        },
        "outputId": "fffe2fdc-fbf4-4cd2-f948-0ba8e6ad832b"
      },
      "execution_count": 9,
      "outputs": [
        {
          "output_type": "display_data",
          "data": {
            "text/plain": [
              "<Figure size 640x480 with 2 Axes>"
            ],
            "image/png": "[encoded data removed]"
          },
          "metadata": {}
        }
      ]
    },
    {
      "cell_type": "markdown",
      "source": [
        "**Graph Analysis**\n",
        "\n",
        "*   Cluster 0: low number of orders, low total amount and buy few items\n",
        "*   Cluster 1: many orders and very high total amount\n",
        "*   Cluster 2: occasional large orders\n",
        "*   Cluster 3: low quantity of orders but high total amount\n",
        "\n",
        "\n",
        "\n"
      ],
      "metadata": {
        "id": "oOEb52xNeKBO"
      }
    },
    {
      "cell_type": "markdown",
      "source": [
        "Evaluation using WCSS"
      ],
      "metadata": {
        "id": "S0DS6cbGgPSr"
      }
    },
    {
      "cell_type": "code",
      "source": [
        "wcss = []\n",
        "k_values = range(2, 11)\n",
        "\n",
        "for k in k_values:\n",
        "    kmeans = KMeans(n_clusters=k, random_state=42)\n",
        "    kmeans.fit(scaled_features_national)\n",
        "    wcss.append(kmeans.inertia_)  # inertia_ is WCSS\n",
        "\n",
        "# Graph the elbow\n",
        "plt.plot(k_values, wcss, marker='o')\n",
        "plt.xlabel('Número de clusters')\n",
        "plt.ylabel('WCSS')\n",
        "plt.title('Método del codo')\n",
        "plt.grid(True)\n",
        "plt.show()\n"
      ],
      "metadata": {
        "colab": {
          "base_uri": "https://localhost:8080/",
          "height": 472
        },
        "id": "Hnpk0d1bfcMd",
        "outputId": "8091ad66-e073-4284-ed42-ba8a8c3887ff"
      },
      "execution_count": 10,
      "outputs": [
        {
          "output_type": "display_data",
          "data": {
            "text/plain": [
              "<Figure size 640x480 with 1 Axes>"
            ],
            "image/png": "[encoded data removed]"
          },
          "metadata": {}
        }
      ]
    },
    {
      "cell_type": "markdown",
      "source": [
        "Evaluation using Silhouette"
      ],
      "metadata": {
        "id": "ZpJXlPcEhG2v"
      }
    },
    {
      "cell_type": "code",
      "source": [
        "silhouette_scores = []\n",
        "\n",
        "for k in k_values:\n",
        "    kmeans = KMeans(n_clusters=k, random_state=42)\n",
        "    labels = kmeans.fit_predict(scaled_features_national)\n",
        "    score = silhouette_score(scaled_features_national, labels)\n",
        "    silhouette_scores.append(score)\n",
        "\n",
        "# Graph Silhouette\n",
        "plt.plot(k_values, silhouette_scores, marker='x', color='green')\n",
        "plt.xlabel('Número de clusters')\n",
        "plt.ylabel('Silhouette Score')\n",
        "plt.title('Evaluación por Silhouette')\n",
        "plt.grid(True)\n",
        "plt.show()\n"
      ],
      "metadata": {
        "colab": {
          "base_uri": "https://localhost:8080/",
          "height": 472
        },
        "id": "p23w1ysNfd8L",
        "outputId": "9a3ba290-3584-42e8-b7fd-bed4fd184bbc"
      },
      "execution_count": 11,
      "outputs": [
        {
          "output_type": "display_data",
          "data": {
            "text/plain": [
              "<Figure size 640x480 with 1 Axes>"
            ],
            "image/png": "[encoded data removed]"
          },
          "metadata": {}
        }
      ]
    },
    {
      "cell_type": "markdown",
      "source": [
        "The following conclusions can be drawn from both graphs:\n",
        "*   For simplicity and compactness, better solution is k = 2\n",
        "*   For a balance between good structure and detail, k=3 or k=4 are more appropiate\n",
        "\n",
        "Final selection is **k=4** due to it has a good WCSS (stable zone), high Silhouette score (~0.79) and it provides more differentiation\n",
        "\n",
        "\n"
      ],
      "metadata": {
        "id": "iOGmbbMBhUIQ"
      }
    },
    {
      "cell_type": "code",
      "source": [
        "# Print data for each cluster\n",
        "print(segments_national.groupby(\"Cluster\").agg({\n",
        "    \"Total Pedidos\": \"mean\",\n",
        "    \"Importe Total €\": \"mean\",\n",
        "    \"Promedio Equipos\": \"mean\"\n",
        "}))"
      ],
      "metadata": {
        "colab": {
          "base_uri": "https://localhost:8080/"
        },
        "id": "Kgp4SVIwiKfc",
        "outputId": "e56d9a79-d0e4-479b-cc5a-eece94e8199c"
      },
      "execution_count": 12,
      "outputs": [
        {
          "output_type": "stream",
          "name": "stdout",
          "text": [
            "         Total Pedidos  Importe Total €  Promedio Equipos\n",
            "Cluster                                                  \n",
            "0             5.010695     1.013379e+05         16.672798\n",
            "1           611.000000     2.988584e+07         66.155483\n",
            "2             2.000000     1.104797e+05        350.583333\n",
            "3           117.500000     1.169149e+06         10.144517\n"
          ]
        }
      ]
    },
    {
      "cell_type": "code",
      "source": [
        "# Print data for premium customer\n",
        "customers_premium = segments_national[segments_national['Cluster'] == 1]\n",
        "print(customers_premium)"
      ],
      "metadata": {
        "colab": {
          "base_uri": "https://localhost:8080/"
        },
        "id": "lZN2M3g7kA7n",
        "outputId": "54cd42a3-a2ff-48d2-f165-88558e0aec78"
      },
      "execution_count": 13,
      "outputs": [
        {
          "output_type": "stream",
          "name": "stdout",
          "text": [
            "       customer  Total Pedidos  Importe Total €  Promedio Equipos  Cluster\n",
            "132  Cliente_38            611      29885842.55         66.155483        1\n"
          ]
        }
      ]
    },
    {
      "cell_type": "markdown",
      "source": [
        "### INTERNATIONAL"
      ],
      "metadata": {
        "id": "rX28BEN1gupd"
      }
    },
    {
      "cell_type": "code",
      "source": [
        "pca=PCA(n_components=2)\n",
        "reduce_features_international=pca.fit_transform(scaled_features_international)\n",
        "\n",
        "plt.scatter(reduce_features_international[:,0], reduce_features_international[:,1], c=segments_international['Cluster'], cmap='viridis')\n",
        "plt.xlabel('PCA 1')\n",
        "plt.ylabel('PCA 2')\n",
        "plt.title(\"Segmentación de Clientes (Pedido Internacional)\")\n",
        "plt.colorbar(label=\"Cluster\")\n",
        "plt.show()"
      ],
      "metadata": {
        "colab": {
          "base_uri": "https://localhost:8080/",
          "height": 472
        },
        "id": "M_30mR5YUzOv",
        "outputId": "2d110000-1887-4ca2-98ed-ed1798820936"
      },
      "execution_count": 14,
      "outputs": [
        {
          "output_type": "display_data",
          "data": {
            "text/plain": [
              "<Figure size 640x480 with 2 Axes>"
            ],
            "image/png": "[encoded data removed]"
          },
          "metadata": {}
        }
      ]
    },
    {
      "cell_type": "markdown",
      "source": [
        "**Graph Analysis**\n",
        "\n",
        "*   Cluster 0: occasional large orders\n",
        "*   Cluster 1: low number of orders, low total amount and buy few items\n",
        "*   Cluster 2: low-frequency large orders\n",
        "*   Cluster 3: many orders and very high total amount"
      ],
      "metadata": {
        "id": "Hfqy2hIGlBzM"
      }
    },
    {
      "cell_type": "markdown",
      "source": [
        "Evaluation using WCSS"
      ],
      "metadata": {
        "id": "q2QVD1EAigPH"
      }
    },
    {
      "cell_type": "code",
      "source": [
        "wcss = []\n",
        "k_values = range(2, 11)\n",
        "\n",
        "for k in k_values:\n",
        "    kmeans = KMeans(n_clusters=k, random_state=42)\n",
        "    kmeans.fit(scaled_features_international)\n",
        "    wcss.append(kmeans.inertia_)  # inertia_ is WCSS\n",
        "\n",
        "# Graph the elbow\n",
        "plt.plot(k_values, wcss, marker='o')\n",
        "plt.xlabel('Número de clusters')\n",
        "plt.ylabel('WCSS')\n",
        "plt.title('Método del codo')\n",
        "plt.grid(True)\n",
        "plt.show()\n"
      ],
      "metadata": {
        "colab": {
          "base_uri": "https://localhost:8080/",
          "height": 472
        },
        "outputId": "c735e1ce-ffb2-408e-bb60-e75f33dce34d",
        "id": "O1Hklg99iYx3"
      },
      "execution_count": 15,
      "outputs": [
        {
          "output_type": "display_data",
          "data": {
            "text/plain": [
              "<Figure size 640x480 with 1 Axes>"
            ],
            "image/png": "[encoded data removed]"
          },
          "metadata": {}
        }
      ]
    },
    {
      "cell_type": "markdown",
      "source": [
        "Evaluation using Silhouette"
      ],
      "metadata": {
        "id": "s0zMirvmihmT"
      }
    },
    {
      "cell_type": "code",
      "source": [
        "silhouette_scores = []\n",
        "\n",
        "for k in k_values:\n",
        "    kmeans = KMeans(n_clusters=k, random_state=42)\n",
        "    labels = kmeans.fit_predict(scaled_features_international)\n",
        "    score = silhouette_score(scaled_features_international, labels)\n",
        "    silhouette_scores.append(score)\n",
        "\n",
        "# Graph Silhouette\n",
        "plt.plot(k_values, silhouette_scores, marker='x', color='green')\n",
        "plt.xlabel('Número de clusters')\n",
        "plt.ylabel('Silhouette Score')\n",
        "plt.title('Evaluación por Silhouette')\n",
        "plt.grid(True)\n",
        "plt.show()"
      ],
      "metadata": {
        "colab": {
          "base_uri": "https://localhost:8080/",
          "height": 472
        },
        "id": "1-cNW8ybiiDQ",
        "outputId": "2bf4a314-80c1-4f09-bf92-43f9e9c55f57"
      },
      "execution_count": 16,
      "outputs": [
        {
          "output_type": "display_data",
          "data": {
            "text/plain": [
              "<Figure size 640x480 with 1 Axes>"
            ],
            "image/png": "[encoded data removed]"
          },
          "metadata": {}
        }
      ]
    },
    {
      "cell_type": "markdown",
      "source": [
        "As in the case of National, the same conclusions can be drawn from both graphs:\n",
        "*   For simplicity and compactness, better solution is k = 2\n",
        "*   For a balance between good structure and detail, k=3 or k=4 are more appropiate\n",
        "\n",
        "Final selection is **k=4** due to it has a good WCSS (stable zone), high Silhouette score (~0.79) and it provides more differentiation\n"
      ],
      "metadata": {
        "id": "0Rvo6ylPiih8"
      }
    },
    {
      "cell_type": "code",
      "source": [
        "# Print data for each cluster\n",
        "print(segments_international.groupby(\"Cluster\").agg({\n",
        "    \"Total Pedidos\": \"mean\",\n",
        "    \"Importe Total €\": \"mean\",\n",
        "    \"Promedio Equipos\": \"mean\"\n",
        "}))"
      ],
      "metadata": {
        "colab": {
          "base_uri": "https://localhost:8080/"
        },
        "id": "K3A5StPBiG9V",
        "outputId": "08001b95-a776-4cec-c87a-cf2a318c9370"
      },
      "execution_count": 17,
      "outputs": [
        {
          "output_type": "stream",
          "name": "stdout",
          "text": [
            "         Total Pedidos  Importe Total €  Promedio Equipos\n",
            "Cluster                                                  \n",
            "0             1.525000     3.054670e+04         12.118750\n",
            "1            21.750000     3.831731e+05         10.568761\n",
            "2            65.000000     1.003241e+06          8.061538\n",
            "3             1.333333     3.598919e+05        248.500000\n"
          ]
        }
      ]
    },
    {
      "cell_type": "code",
      "source": [
        "# Print data for premium customer\n",
        "customers_premium = segments_international[segments_international['Cluster'] == 3]\n",
        "print(customers_premium)"
      ],
      "metadata": {
        "colab": {
          "base_uri": "https://localhost:8080/"
        },
        "id": "WHvV5FvFjzwR",
        "outputId": "0aa4fc0d-293c-4559-d0c2-f00b8226c160"
      },
      "execution_count": 18,
      "outputs": [
        {
          "output_type": "stream",
          "name": "stdout",
          "text": [
            "       customer  Total Pedidos  Importe Total €  Promedio Equipos  Cluster\n",
            "5   Cliente_161              1        200760.00             259.0        3\n",
            "9   Cliente_178              2        500036.34             214.5        3\n",
            "30  Cliente_216              1        378879.38             272.0        3\n"
          ]
        }
      ]
    },
    {
      "cell_type": "markdown",
      "source": [
        "With all this information, the company can start preparing and executing marketing actions and commercial strategies to improve its sales with existing customers."
      ],
      "metadata": {
        "id": "L431PdXo0KIR"
      }
    }
  ]
}